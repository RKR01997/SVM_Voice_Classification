{
  "nbformat": 4,
  "nbformat_minor": 0,
  "metadata": {
    "kernelspec": {
      "display_name": "Python 3",
      "language": "python",
      "name": "python3"
    },
    "language_info": {
      "codemirror_mode": {
        "name": "ipython",
        "version": 3
      },
      "file_extension": ".py",
      "mimetype": "text/x-python",
      "name": "python",
      "nbconvert_exporter": "python",
      "pygments_lexer": "ipython3",
      "version": "3.7.3"
    },
    "colab": {
      "name": "SVM Voice Classification.ipynb",
      "provenance": [],
      "collapsed_sections": []
    },
    "accelerator": "GPU"
  },
  "cells": [
    {
      "cell_type": "markdown",
      "metadata": {
        "id": "3rMKo_pHtjrA"
      },
      "source": [
        "### SVM Voice Classification\n",
        "1) Read the dataset<br>\n",
        "2) Remove/handle null values (if any)<br>\n",
        "3) Depict percentage distribution of label on a pie chart<br>\n",
        "4) Considering all the features as independent feature and 'label' as dependent feature, split the dataset into training and testing data with test size=20%<br>\n",
        "5) Apply Support Vector Classifier on train data with different kernels and generate predictions on test data<br>\n",
        "6) Also generate confusion_matrix and classification report for each of them<br>\n",
        "7) Using Cross validation with 10 folds apply Support Vector Classifier and generate model accuracy and also compute mean accuracy\n",
        "for linear, rbf and poly kernels separately<br>\n",
        "8) Using C values in the range of 1-12 apply Cross validation for 4 folds for linear kernel and generate mean accuracy score. Plot C vs mean accuracy score on a line chart<br>\n",
        "9) Using C values in the range of 1-12 apply Cross validation for 4 folds for rbf kernel and generate mean accuracy score. Plot C vs mean accuracy score on a line chart<br>\n",
        "10) Using gamma values in the range given below apply Cross validation for 4 folds for rbf kernel and generate mean accuracy score. Plot gamma vs mean accuracy score on a line chart<br>\n",
        "a) gamma_range = [0.0001,0.001,0.01,0.1,1,10,100]<br>\n",
        "b) gamma_range = [0.01,0.02,0.03,0.04,0.05]<br>\n",
        "11) Using degree values in the range of 1-6 apply Cross validation for 4 folds for poly kernel and generate mean accuracy score. Plot degree vs mean accuracy score on a line chart<br>"
      ]
    },
    {
      "cell_type": "code",
      "metadata": {
        "id": "ZLCnKNa5tjrC"
      },
      "source": [
        "import pandas as pd\n",
        "import numpy as np\n",
        "import matplotlib.pyplot as plt\n",
        "import seaborn as sns"
      ],
      "execution_count": null,
      "outputs": []
    },
    {
      "cell_type": "code",
      "metadata": {
        "id": "lHk9ZPxv_0LQ"
      },
      "source": [
        "df=pd.read_csv('/content/voice.csv')"
      ],
      "execution_count": null,
      "outputs": []
    },
    {
      "cell_type": "code",
      "metadata": {
        "colab": {
          "base_uri": "https://localhost:8080/",
          "height": 225
        },
        "id": "xbVq1lXZAIAs",
        "outputId": "4359cdc0-37a7-4aab-8aa9-2215a5ff35b0"
      },
      "source": [
        "df.head()"
      ],
      "execution_count": null,
      "outputs": [
        {
          "output_type": "execute_result",
          "data": {
            "text/html": [
              "<div>\n",
              "<style scoped>\n",
              "    .dataframe tbody tr th:only-of-type {\n",
              "        vertical-align: middle;\n",
              "    }\n",
              "\n",
              "    .dataframe tbody tr th {\n",
              "        vertical-align: top;\n",
              "    }\n",
              "\n",
              "    .dataframe thead th {\n",
              "        text-align: right;\n",
              "    }\n",
              "</style>\n",
              "<table border=\"1\" class=\"dataframe\">\n",
              "  <thead>\n",
              "    <tr style=\"text-align: right;\">\n",
              "      <th></th>\n",
              "      <th>meanfreq</th>\n",
              "      <th>sd</th>\n",
              "      <th>median</th>\n",
              "      <th>Q25</th>\n",
              "      <th>Q75</th>\n",
              "      <th>IQR</th>\n",
              "      <th>skew</th>\n",
              "      <th>kurt</th>\n",
              "      <th>sp.ent</th>\n",
              "      <th>sfm</th>\n",
              "      <th>mode</th>\n",
              "      <th>centroid</th>\n",
              "      <th>meanfun</th>\n",
              "      <th>minfun</th>\n",
              "      <th>maxfun</th>\n",
              "      <th>meandom</th>\n",
              "      <th>mindom</th>\n",
              "      <th>maxdom</th>\n",
              "      <th>dfrange</th>\n",
              "      <th>modindx</th>\n",
              "      <th>label</th>\n",
              "    </tr>\n",
              "  </thead>\n",
              "  <tbody>\n",
              "    <tr>\n",
              "      <th>0</th>\n",
              "      <td>0.059781</td>\n",
              "      <td>0.064241</td>\n",
              "      <td>0.032027</td>\n",
              "      <td>0.015071</td>\n",
              "      <td>0.090193</td>\n",
              "      <td>0.075122</td>\n",
              "      <td>12.863462</td>\n",
              "      <td>274.402906</td>\n",
              "      <td>0.893369</td>\n",
              "      <td>0.491918</td>\n",
              "      <td>0.000000</td>\n",
              "      <td>0.059781</td>\n",
              "      <td>0.084279</td>\n",
              "      <td>0.015702</td>\n",
              "      <td>0.275862</td>\n",
              "      <td>0.007812</td>\n",
              "      <td>0.007812</td>\n",
              "      <td>0.007812</td>\n",
              "      <td>0.000000</td>\n",
              "      <td>0.000000</td>\n",
              "      <td>male</td>\n",
              "    </tr>\n",
              "    <tr>\n",
              "      <th>1</th>\n",
              "      <td>0.066009</td>\n",
              "      <td>0.067310</td>\n",
              "      <td>0.040229</td>\n",
              "      <td>0.019414</td>\n",
              "      <td>0.092666</td>\n",
              "      <td>0.073252</td>\n",
              "      <td>22.423285</td>\n",
              "      <td>634.613855</td>\n",
              "      <td>0.892193</td>\n",
              "      <td>0.513724</td>\n",
              "      <td>0.000000</td>\n",
              "      <td>0.066009</td>\n",
              "      <td>0.107937</td>\n",
              "      <td>0.015826</td>\n",
              "      <td>0.250000</td>\n",
              "      <td>0.009014</td>\n",
              "      <td>0.007812</td>\n",
              "      <td>0.054688</td>\n",
              "      <td>0.046875</td>\n",
              "      <td>0.052632</td>\n",
              "      <td>male</td>\n",
              "    </tr>\n",
              "    <tr>\n",
              "      <th>2</th>\n",
              "      <td>0.077316</td>\n",
              "      <td>0.083829</td>\n",
              "      <td>0.036718</td>\n",
              "      <td>0.008701</td>\n",
              "      <td>0.131908</td>\n",
              "      <td>0.123207</td>\n",
              "      <td>30.757155</td>\n",
              "      <td>1024.927705</td>\n",
              "      <td>0.846389</td>\n",
              "      <td>0.478905</td>\n",
              "      <td>0.000000</td>\n",
              "      <td>0.077316</td>\n",
              "      <td>0.098706</td>\n",
              "      <td>0.015656</td>\n",
              "      <td>0.271186</td>\n",
              "      <td>0.007990</td>\n",
              "      <td>0.007812</td>\n",
              "      <td>0.015625</td>\n",
              "      <td>0.007812</td>\n",
              "      <td>0.046512</td>\n",
              "      <td>male</td>\n",
              "    </tr>\n",
              "    <tr>\n",
              "      <th>3</th>\n",
              "      <td>0.151228</td>\n",
              "      <td>0.072111</td>\n",
              "      <td>0.158011</td>\n",
              "      <td>0.096582</td>\n",
              "      <td>0.207955</td>\n",
              "      <td>0.111374</td>\n",
              "      <td>1.232831</td>\n",
              "      <td>4.177296</td>\n",
              "      <td>0.963322</td>\n",
              "      <td>0.727232</td>\n",
              "      <td>0.083878</td>\n",
              "      <td>0.151228</td>\n",
              "      <td>0.088965</td>\n",
              "      <td>0.017798</td>\n",
              "      <td>0.250000</td>\n",
              "      <td>0.201497</td>\n",
              "      <td>0.007812</td>\n",
              "      <td>0.562500</td>\n",
              "      <td>0.554688</td>\n",
              "      <td>0.247119</td>\n",
              "      <td>male</td>\n",
              "    </tr>\n",
              "    <tr>\n",
              "      <th>4</th>\n",
              "      <td>0.135120</td>\n",
              "      <td>0.079146</td>\n",
              "      <td>0.124656</td>\n",
              "      <td>0.078720</td>\n",
              "      <td>0.206045</td>\n",
              "      <td>0.127325</td>\n",
              "      <td>1.101174</td>\n",
              "      <td>4.333713</td>\n",
              "      <td>0.971955</td>\n",
              "      <td>0.783568</td>\n",
              "      <td>0.104261</td>\n",
              "      <td>0.135120</td>\n",
              "      <td>0.106398</td>\n",
              "      <td>0.016931</td>\n",
              "      <td>0.266667</td>\n",
              "      <td>0.712812</td>\n",
              "      <td>0.007812</td>\n",
              "      <td>5.484375</td>\n",
              "      <td>5.476562</td>\n",
              "      <td>0.208274</td>\n",
              "      <td>male</td>\n",
              "    </tr>\n",
              "  </tbody>\n",
              "</table>\n",
              "</div>"
            ],
            "text/plain": [
              "   meanfreq        sd    median       Q25  ...    maxdom   dfrange   modindx  label\n",
              "0  0.059781  0.064241  0.032027  0.015071  ...  0.007812  0.000000  0.000000   male\n",
              "1  0.066009  0.067310  0.040229  0.019414  ...  0.054688  0.046875  0.052632   male\n",
              "2  0.077316  0.083829  0.036718  0.008701  ...  0.015625  0.007812  0.046512   male\n",
              "3  0.151228  0.072111  0.158011  0.096582  ...  0.562500  0.554688  0.247119   male\n",
              "4  0.135120  0.079146  0.124656  0.078720  ...  5.484375  5.476562  0.208274   male\n",
              "\n",
              "[5 rows x 21 columns]"
            ]
          },
          "metadata": {},
          "execution_count": 4
        }
      ]
    },
    {
      "cell_type": "code",
      "metadata": {
        "id": "VjaFb7E-AJdu"
      },
      "source": [
        "d1=df['label'].value_counts()"
      ],
      "execution_count": null,
      "outputs": []
    },
    {
      "cell_type": "code",
      "metadata": {
        "colab": {
          "base_uri": "https://localhost:8080/",
          "height": 248
        },
        "id": "z2c5ci5BASMS",
        "outputId": "31a34f62-598c-4bd4-caa8-dca6b48b6e64"
      },
      "source": [
        "plt.pie(d1,labels=d1.index,autopct='%.2f%%')\n",
        "plt.legend()\n",
        "plt.show()"
      ],
      "execution_count": null,
      "outputs": [
        {
          "output_type": "display_data",
          "data": {
            "image/png": "[encoded data removed]",
            "text/plain": [
              "<Figure size 432x288 with 1 Axes>"
            ]
          },
          "metadata": {}
        }
      ]
    },
    {
      "cell_type": "code",
      "metadata": {
        "colab": {
          "base_uri": "https://localhost:8080/"
        },
        "id": "jA9wvZd4AehA",
        "outputId": "dfa3c2f8-9ace-4527-a943-be077728849c"
      },
      "source": [
        "df.isnull().sum()"
      ],
      "execution_count": null,
      "outputs": [
        {
          "output_type": "execute_result",
          "data": {
            "text/plain": [
              "meanfreq    0\n",
              "sd          0\n",
              "median      0\n",
              "Q25         0\n",
              "Q75         0\n",
              "IQR         0\n",
              "skew        0\n",
              "kurt        0\n",
              "sp.ent      0\n",
              "sfm         0\n",
              "mode        0\n",
              "centroid    0\n",
              "meanfun     0\n",
              "minfun      0\n",
              "maxfun      0\n",
              "meandom     0\n",
              "mindom      0\n",
              "maxdom      0\n",
              "dfrange     0\n",
              "modindx     0\n",
              "label       0\n",
              "dtype: int64"
            ]
          },
          "metadata": {},
          "execution_count": 7
        }
      ]
    },
    {
      "cell_type": "code",
      "metadata": {
        "id": "YHNNOXtLAqtO"
      },
      "source": [
        "from sklearn.model_selection import train_test_split"
      ],
      "execution_count": null,
      "outputs": []
    },
    {
      "cell_type": "code",
      "metadata": {
        "id": "8mgPow4cAyib"
      },
      "source": [
        "x=df.iloc[:,:-1]\n",
        "y=df.iloc[:,-1]"
      ],
      "execution_count": null,
      "outputs": []
    },
    {
      "cell_type": "code",
      "metadata": {
        "id": "VoB7iif0A46E"
      },
      "source": [
        "x_train,x_test,y_train,y_test=train_test_split(x,y,test_size=.20)"
      ],
      "execution_count": null,
      "outputs": []
    },
    {
      "cell_type": "code",
      "metadata": {
        "colab": {
          "base_uri": "https://localhost:8080/"
        },
        "id": "o3oebYbJBG6Q",
        "outputId": "8502c4da-f14f-46e0-87c8-f58a0782171e"
      },
      "source": [
        "print(x_train.shape)\n",
        "print(y_train.shape)\n",
        "print(x_test.shape)\n",
        "print(y_test.shape)"
      ],
      "execution_count": null,
      "outputs": [
        {
          "output_type": "stream",
          "name": "stdout",
          "text": [
            "(2534, 20)\n",
            "(2534,)\n",
            "(634, 20)\n",
            "(634,)\n"
          ]
        }
      ]
    },
    {
      "cell_type": "markdown",
      "metadata": {
        "id": "rHmYvN6YF0vZ"
      },
      "source": [
        " Apply Support Vector Classifier on train data with different kernels and generate predictions on test data and also generate confusion_matrix and classification report for each of them"
      ]
    },
    {
      "cell_type": "code",
      "metadata": {
        "id": "uBoWog3gBNWM"
      },
      "source": [
        "from sklearn.svm import SVC\n",
        "from sklearn.metrics import classification_report,confusion_matrix"
      ],
      "execution_count": null,
      "outputs": []
    },
    {
      "cell_type": "code",
      "metadata": {
        "colab": {
          "base_uri": "https://localhost:8080/"
        },
        "id": "Ckk71weJBaR0",
        "outputId": "82c6d6cf-44e8-40db-d0ec-024b8be9026b"
      },
      "source": [
        "kernal=['linear','poly','rbf']\n",
        "for i in kernal:\n",
        "  model=SVC(kernel=i)\n",
        "  model.fit(x_train,y_train)\n",
        "  print(f'With {i} kernal the accuracy score is {model.score(x_test,y_test)}')\n",
        "  y_pred=model.predict(x_test)\n",
        "  print(f'For {i} kernal Confusion matrix is\\n {confusion_matrix(y_pred,y_test)}')\n",
        "  print(f'For {i} kernal Classification report is\\n {classification_report(y_pred,y_test)}')"
      ],
      "execution_count": null,
      "outputs": [
        {
          "output_type": "stream",
          "name": "stdout",
          "text": [
            "With linear kernal the accuracy score is 0.9132492113564669\n",
            "For linear kernal Confusion matrix is\n",
            " [[273  12]\n",
            " [ 43 306]]\n",
            "For linear kernal Classification report is\n",
            "               precision    recall  f1-score   support\n",
            "\n",
            "      female       0.86      0.96      0.91       285\n",
            "        male       0.96      0.88      0.92       349\n",
            "\n",
            "    accuracy                           0.91       634\n",
            "   macro avg       0.91      0.92      0.91       634\n",
            "weighted avg       0.92      0.91      0.91       634\n",
            "\n",
            "With poly kernal the accuracy score is 0.5094637223974764\n",
            "For poly kernal Confusion matrix is\n",
            " [[309 304]\n",
            " [  7  14]]\n",
            "For poly kernal Classification report is\n",
            "               precision    recall  f1-score   support\n",
            "\n",
            "      female       0.98      0.50      0.67       613\n",
            "        male       0.04      0.67      0.08        21\n",
            "\n",
            "    accuracy                           0.51       634\n",
            "   macro avg       0.51      0.59      0.37       634\n",
            "weighted avg       0.95      0.51      0.65       634\n",
            "\n",
            "With rbf kernal the accuracy score is 0.6829652996845426\n",
            "For rbf kernal Confusion matrix is\n",
            " [[189  74]\n",
            " [127 244]]\n",
            "For rbf kernal Classification report is\n",
            "               precision    recall  f1-score   support\n",
            "\n",
            "      female       0.60      0.72      0.65       263\n",
            "        male       0.77      0.66      0.71       371\n",
            "\n",
            "    accuracy                           0.68       634\n",
            "   macro avg       0.68      0.69      0.68       634\n",
            "weighted avg       0.70      0.68      0.69       634\n",
            "\n"
          ]
        }
      ]
    },
    {
      "cell_type": "markdown",
      "metadata": {
        "id": "CptghWJ8GD0o"
      },
      "source": [
        "Using Cross validation with 10 folds apply Support Vector Classifier and generate model accuracy and also compute mean accuracy for linear, rbf and poly kernels separately"
      ]
    },
    {
      "cell_type": "code",
      "metadata": {
        "id": "8zyXigsfGDjL"
      },
      "source": [
        "from sklearn.model_selection import StratifiedKFold\n",
        "from sklearn.model_selection import cross_val_score"
      ],
      "execution_count": null,
      "outputs": []
    },
    {
      "cell_type": "code",
      "metadata": {
        "colab": {
          "base_uri": "https://localhost:8080/"
        },
        "id": "ETPDJIq3DgD1",
        "outputId": "ee201662-c9ec-4fa6-9f44-a524a7c6fcaf"
      },
      "source": [
        "skf=StratifiedKFold(n_splits=10)\n",
        "kernal=['linear','poly','rbf']\n",
        "for i in kernal:\n",
        "  score=cross_val_score(SVC(kernel=i),x,y,cv=skf)\n",
        "  print(f'At {i} kernal, accuracy score is {score.mean()}')"
      ],
      "execution_count": null,
      "outputs": [
        {
          "output_type": "stream",
          "name": "stdout",
          "text": [
            "At linear kernal, accuracy score is 0.9191909914946292\n",
            "At poly kernal, accuracy score is 0.5129297608114044\n",
            "At rbf kernal, accuracy score is 0.658757936349479\n"
          ]
        }
      ]
    },
    {
      "cell_type": "markdown",
      "metadata": {
        "id": "bjQuXMSoJsOm"
      },
      "source": [
        "Using C values in the range of 1-12 apply Cross validation for 4 folds for linear kernel and generate mean accuracy score. Plot C vs mean accuracy score on a line chart"
      ]
    },
    {
      "cell_type": "code",
      "metadata": {
        "colab": {
          "base_uri": "https://localhost:8080/"
        },
        "id": "rGqueIM_Gppt",
        "outputId": "f7b8afbf-bbd0-4e4d-a752-21bc61bb5c5c"
      },
      "source": [
        "accuracy=[]\n",
        "skf1=StratifiedKFold(n_splits=4)\n",
        "for i in range(1,12):\n",
        "  score1=cross_val_score(SVC(kernel='linear',C=i),x,y)\n",
        "  print(f'At C={i},accuracy score is {score1.mean()}')\n",
        "  accuracy.append(score1.mean())"
      ],
      "execution_count": null,
      "outputs": [
        {
          "output_type": "stream",
          "name": "stdout",
          "text": [
            "At C=1,accuracy score is 0.9173172664344342\n",
            "At C=2,accuracy score is 0.9387833211236863\n",
            "At C=3,accuracy score is 0.9539277687243659\n",
            "At C=4,accuracy score is 0.9586601282760476\n",
            "At C=5,accuracy score is 0.9624456172350382\n",
            "At C=6,accuracy score is 0.9646543174807262\n",
            "At C=7,accuracy score is 0.9646543174807262\n",
            "At C=8,accuracy score is 0.9646543174807262\n",
            "At C=9,accuracy score is 0.9652857306601682\n",
            "At C=10,accuracy score is 0.9646538191277827\n",
            "At C=11,accuracy score is 0.9656011880734173\n"
          ]
        }
      ]
    },
    {
      "cell_type": "code",
      "metadata": {
        "id": "UM0vOD7yM6C0",
        "colab": {
          "base_uri": "https://localhost:8080/",
          "height": 295
        },
        "outputId": "8afb07c0-5eed-406d-b2d7-076059f31c74"
      },
      "source": [
        "plt.plot(range(1,12),accuracy,marker='*')\n",
        "plt.xlabel('C')\n",
        "plt.ylabel('Mean accuracy Score')\n",
        "plt.title('C vs Mean accuracy score')\n",
        "plt.show()"
      ],
      "execution_count": null,
      "outputs": [
        {
          "output_type": "display_data",
          "data": {
            "image/png": "[encoded data removed]",
            "text/plain": [
              "<Figure size 432x288 with 1 Axes>"
            ]
          },
          "metadata": {
            "needs_background": "light"
          }
        }
      ]
    },
    {
      "cell_type": "markdown",
      "metadata": {
        "id": "5V9T53g3QO0G"
      },
      "source": [
        "Using C values in the range of 1-12 apply Cross validation for 4 folds for rbf kernel and generate mean accuracy score. Plot C vs mean accuracy score on a line chart"
      ]
    },
    {
      "cell_type": "code",
      "metadata": {
        "id": "gDwfS_arQCJm",
        "colab": {
          "base_uri": "https://localhost:8080/"
        },
        "outputId": "46c50e19-953d-4163-8d7b-d5ba8ce64110"
      },
      "source": [
        "acc=[]\n",
        "for i in range(1,12):\n",
        "  score2=cross_val_score(SVC(kernel='rbf',C=i),x,y,cv=skf1)\n",
        "  acc.append(score.mean())\n",
        "print(acc)"
      ],
      "execution_count": null,
      "outputs": [
        {
          "output_type": "stream",
          "name": "stdout",
          "text": [
            "[0.658757936349479, 0.658757936349479, 0.658757936349479, 0.658757936349479, 0.658757936349479, 0.658757936349479, 0.658757936349479, 0.658757936349479, 0.658757936349479, 0.658757936349479, 0.658757936349479]\n"
          ]
        }
      ]
    },
    {
      "cell_type": "code",
      "metadata": {
        "id": "DoZe1gpfQeD5",
        "colab": {
          "base_uri": "https://localhost:8080/",
          "height": 295
        },
        "outputId": "bce39625-5837-411a-cafc-99166b46e54b"
      },
      "source": [
        "plt.plot(range(1,12),acc,marker='*')\n",
        "plt.xlabel('C')\n",
        "plt.ylabel('Mean accuracy Score')\n",
        "plt.title('C vs Mean accuracy score')\n",
        "plt.show()"
      ],
      "execution_count": null,
      "outputs": [
        {
          "output_type": "display_data",
          "data": {
            "image/png": "[encoded data removed]",
            "text/plain": [
              "<Figure size 432x288 with 1 Axes>"
            ]
          },
          "metadata": {
            "needs_background": "light"
          }
        }
      ]
    },
    {
      "cell_type": "markdown",
      "metadata": {
        "id": "KrGFVMv9Qw0o"
      },
      "source": [
        "Using gamma values in the range given below apply Cross validation for 4 folds for rbf kernel and generate mean accuracy score. Plot gamma vs mean accuracy score on a line chart"
      ]
    },
    {
      "cell_type": "code",
      "metadata": {
        "id": "tw8MlpfaQmBu",
        "colab": {
          "base_uri": "https://localhost:8080/"
        },
        "outputId": "f5b571f5-6199-4bd9-cb33-16f8c1b875fa"
      },
      "source": [
        "g_acc=[]\n",
        "g = [0.0001,0.001,0.01,0.1,1,10,100]\n",
        "for i in g:\n",
        "  score=cross_val_score(SVC(kernel='rbf',gamma=i),x,y,cv=skf1)\n",
        "  print(f'At gamma={i},accuracy is {score.mean()}')\n",
        "  g_acc.append(score.mean())"
      ],
      "execution_count": null,
      "outputs": [
        {
          "output_type": "stream",
          "name": "stdout",
          "text": [
            "At gamma=0.0001,accuracy is 0.6537247474747474\n",
            "At gamma=0.001,accuracy is 0.649621212121212\n",
            "At gamma=0.01,accuracy is 0.6666666666666667\n",
            "At gamma=0.1,accuracy is 0.6717171717171717\n",
            "At gamma=1,accuracy is 0.6849747474747474\n",
            "At gamma=10,accuracy is 0.678030303030303\n",
            "At gamma=100,accuracy is 0.5170454545454546\n"
          ]
        }
      ]
    },
    {
      "cell_type": "code",
      "metadata": {
        "id": "7hI1NHwwRRV1",
        "colab": {
          "base_uri": "https://localhost:8080/",
          "height": 295
        },
        "outputId": "0f3839d6-568a-43f0-b0df-48d9736f543c"
      },
      "source": [
        "plt.plot(g,g_acc,marker='*')\n",
        "plt.xlabel('Gamma')\n",
        "plt.ylabel('Mean accuracy Score')\n",
        "plt.title('Gamma vs Mean accuracy score')\n",
        "plt.show()"
      ],
      "execution_count": null,
      "outputs": [
        {
          "output_type": "display_data",
          "data": {
            "image/png": "[encoded data removed]",
            "text/plain": [
              "<Figure size 432x288 with 1 Axes>"
            ]
          },
          "metadata": {
            "needs_background": "light"
          }
        }
      ]
    },
    {
      "cell_type": "code",
      "metadata": {
        "id": "MGc2-PBARxka",
        "colab": {
          "base_uri": "https://localhost:8080/"
        },
        "outputId": "1e5e1b04-aa39-46b3-b778-6097cf5b81ac"
      },
      "source": [
        "g2=[]\n",
        "g_range = [0.01,0.02,0.03,0.04,0.05]\n",
        "for i in g_range:\n",
        "  score=cross_val_score(SVC(kernel='rbf',gamma=i),x,y,cv=skf1)\n",
        "  print(f'At gamma={i},accuracy is {score.mean()}')\n",
        "  g2.append(score.mean())"
      ],
      "execution_count": null,
      "outputs": [
        {
          "output_type": "stream",
          "name": "stdout",
          "text": [
            "At gamma=0.01,accuracy is 0.6666666666666667\n",
            "At gamma=0.02,accuracy is 0.6761363636363638\n",
            "At gamma=0.03,accuracy is 0.6830808080808081\n",
            "At gamma=0.04,accuracy is 0.6837121212121212\n",
            "At gamma=0.05,accuracy is 0.6799242424242424\n"
          ]
        }
      ]
    },
    {
      "cell_type": "code",
      "metadata": {
        "id": "XWRwfFXHSZ1C",
        "colab": {
          "base_uri": "https://localhost:8080/",
          "height": 295
        },
        "outputId": "a295af56-603f-4592-e970-7209af727a18"
      },
      "source": [
        "plt.plot(g_range,g2,marker='*')\n",
        "plt.xlabel('Gamma')\n",
        "plt.ylabel('Mean accuracy Score')\n",
        "plt.title('Gamma vs Mean accuracy score')\n",
        "plt.show()"
      ],
      "execution_count": null,
      "outputs": [
        {
          "output_type": "display_data",
          "data": {
            "image/png": "[encoded data removed]",
            "text/plain": [
              "<Figure size 432x288 with 1 Axes>"
            ]
          },
          "metadata": {
            "needs_background": "light"
          }
        }
      ]
    },
    {
      "cell_type": "markdown",
      "metadata": {
        "id": "bXcUyvISSlOp"
      },
      "source": [
        "Using degree values in the range of 1-6 apply Cross validation for 4 folds for poly kernel and generate mean accuracy score. Plot degree vs mean accuracy score on a line chart"
      ]
    },
    {
      "cell_type": "code",
      "metadata": {
        "id": "kl63z1NrSfjj"
      },
      "source": [
        "d2=[]\n",
        "deg=[i for i in range(1,7)]\n",
        "for i in deg:\n",
        "  score=cross_val_score(SVC(kernel='poly',degree=i),x,y,cv=skf1)\n",
        "  d2.append(score.mean())\n",
        "\n",
        "plt.plot(deg,d2,marker='o')\n",
        "plt.xlabel('Degree')\n",
        "plt.ylabel('Mean accuracy Score')\n",
        "plt.title('Degree vs Mean accuracy score')\n",
        "plt.show()"
      ],
      "execution_count": null,
      "outputs": []
    }
  ]
}